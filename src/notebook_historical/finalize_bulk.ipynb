{
 "cells": [
  {
   "cell_type": "code",
   "execution_count": 1,
   "id": "7f9f957b",
   "metadata": {},
   "outputs": [],
   "source": [
    "import pandas as pd\n",
    "import numpy as np\n",
    "\n",
    "input_name = \"hmda_all_bulk.csv\"\n",
    "\n",
    "output_name_f = \"hmda_all_features_final.csv\" # will contain demographics, nans\n",
    "output_name_t = \"hmda_all_target_final.csv\""
   ]
  },
  {
   "cell_type": "code",
   "execution_count": 2,
   "id": "44156a91",
   "metadata": {},
   "outputs": [],
   "source": [
    "features_df = pd.read_csv(input_name)"
   ]
  },
  {
   "cell_type": "code",
   "execution_count": 3,
   "id": "1b3713ac",
   "metadata": {},
   "outputs": [
    {
     "data": {
      "text/plain": [
       "(140191882, 42)"
      ]
     },
     "execution_count": 3,
     "metadata": {},
     "output_type": "execute_result"
    }
   ],
   "source": [
    "m, n = features_df.shape\n",
    "m, n"
   ]
  },
  {
   "cell_type": "code",
   "execution_count": 4,
   "id": "67b2423e",
   "metadata": {},
   "outputs": [],
   "source": [
    "# empty on 2017; easiest to just drop\n",
    "del features_df['sequence_number']"
   ]
  },
  {
   "cell_type": "code",
   "execution_count": 5,
   "id": "c2ab9efc",
   "metadata": {},
   "outputs": [
    {
     "data": {
      "text/plain": [
       "Index(['as_of_year', 'agency_code', 'loan_type', 'property_type',\n",
       "       'loan_purpose', 'owner_occupancy', 'loan_amount_000s', 'preapproval',\n",
       "       'action_taken', 'msamd', 'state_abbr', 'state_code', 'county_code',\n",
       "       'census_tract_number', 'applicant_ethnicity', 'co_applicant_ethnicity',\n",
       "       'applicant_race_1', 'applicant_race_2', 'applicant_race_3',\n",
       "       'applicant_race_4', 'applicant_race_5', 'co_applicant_race_1',\n",
       "       'co_applicant_race_2', 'co_applicant_race_3', 'co_applicant_race_4',\n",
       "       'co_applicant_race_5', 'applicant_sex', 'co_applicant_sex',\n",
       "       'applicant_income_000s', 'purchaser_type', 'denial_reason_1',\n",
       "       'denial_reason_2', 'denial_reason_3', 'edit_status', 'population',\n",
       "       'minority_population', 'hud_median_family_income',\n",
       "       'tract_to_msamd_income', 'number_of_owner_occupied_units',\n",
       "       'number_of_1_to_4_family_units', 'has_co_applicant'],\n",
       "      dtype='object')"
      ]
     },
     "execution_count": 5,
     "metadata": {},
     "output_type": "execute_result"
    }
   ],
   "source": [
    "features_df.columns"
   ]
  },
  {
   "cell_type": "code",
   "execution_count": 7,
   "id": "444cec52",
   "metadata": {},
   "outputs": [
    {
     "data": {
      "text/plain": [
       "['applicant_race_2',\n",
       " 'applicant_race_3',\n",
       " 'applicant_race_4',\n",
       " 'applicant_race_5',\n",
       " 'co_applicant_race_2',\n",
       " 'co_applicant_race_3',\n",
       " 'co_applicant_race_4',\n",
       " 'co_applicant_race_5',\n",
       " 'denial_reason_1',\n",
       " 'denial_reason_2',\n",
       " 'denial_reason_3',\n",
       " 'has_co_applicant']"
      ]
     },
     "execution_count": 7,
     "metadata": {},
     "output_type": "execute_result"
    }
   ],
   "source": [
    "features_df.columns[features_df.isna().any()].tolist() # demo; denial_reason; has_co_applicant"
   ]
  },
  {
   "cell_type": "code",
   "execution_count": 8,
   "id": "8162486c",
   "metadata": {},
   "outputs": [],
   "source": [
    "# for dGrab, remove denial reasons; keep one for df shape\n",
    "del features_df['denial_reason_2']\n",
    "del features_df['denial_reason_3']"
   ]
  },
  {
   "cell_type": "markdown",
   "id": "ffce743f",
   "metadata": {},
   "source": [
    "# Split off target"
   ]
  },
  {
   "cell_type": "code",
   "execution_count": 10,
   "id": "7b3e8dc0",
   "metadata": {},
   "outputs": [],
   "source": [
    "target_df = features_df[['action_taken',\n",
    "                         'denial_reason_1']]"
   ]
  },
  {
   "cell_type": "code",
   "execution_count": 11,
   "id": "c5b51642",
   "metadata": {},
   "outputs": [],
   "source": [
    "target_df.to_csv(output_name_t, index=False)"
   ]
  },
  {
   "cell_type": "code",
   "execution_count": 12,
   "id": "ba7f27df",
   "metadata": {},
   "outputs": [
    {
     "data": {
      "text/html": [
       "<div>\n",
       "<style scoped>\n",
       "    .dataframe tbody tr th:only-of-type {\n",
       "        vertical-align: middle;\n",
       "    }\n",
       "\n",
       "    .dataframe tbody tr th {\n",
       "        vertical-align: top;\n",
       "    }\n",
       "\n",
       "    .dataframe thead th {\n",
       "        text-align: right;\n",
       "    }\n",
       "</style>\n",
       "<table border=\"1\" class=\"dataframe\">\n",
       "  <thead>\n",
       "    <tr style=\"text-align: right;\">\n",
       "      <th></th>\n",
       "      <th>action_taken</th>\n",
       "      <th>denial_reason_1</th>\n",
       "    </tr>\n",
       "  </thead>\n",
       "  <tbody>\n",
       "    <tr>\n",
       "      <th>0</th>\n",
       "      <td>1</td>\n",
       "      <td>NaN</td>\n",
       "    </tr>\n",
       "    <tr>\n",
       "      <th>1</th>\n",
       "      <td>6</td>\n",
       "      <td>NaN</td>\n",
       "    </tr>\n",
       "    <tr>\n",
       "      <th>2</th>\n",
       "      <td>1</td>\n",
       "      <td>NaN</td>\n",
       "    </tr>\n",
       "    <tr>\n",
       "      <th>3</th>\n",
       "      <td>6</td>\n",
       "      <td>NaN</td>\n",
       "    </tr>\n",
       "    <tr>\n",
       "      <th>4</th>\n",
       "      <td>1</td>\n",
       "      <td>NaN</td>\n",
       "    </tr>\n",
       "  </tbody>\n",
       "</table>\n",
       "</div>"
      ],
      "text/plain": [
       "   action_taken  denial_reason_1\n",
       "0             1              NaN\n",
       "1             6              NaN\n",
       "2             1              NaN\n",
       "3             6              NaN\n",
       "4             1              NaN"
      ]
     },
     "execution_count": 12,
     "metadata": {},
     "output_type": "execute_result"
    }
   ],
   "source": [
    "target_df.head()"
   ]
  },
  {
   "cell_type": "code",
   "execution_count": 13,
   "id": "6130264e",
   "metadata": {},
   "outputs": [],
   "source": [
    "del target_df['denial_reason_1']"
   ]
  },
  {
   "cell_type": "code",
   "execution_count": 14,
   "id": "5fba0e8b",
   "metadata": {},
   "outputs": [
    {
     "data": {
      "text/html": [
       "<div>\n",
       "<style scoped>\n",
       "    .dataframe tbody tr th:only-of-type {\n",
       "        vertical-align: middle;\n",
       "    }\n",
       "\n",
       "    .dataframe tbody tr th {\n",
       "        vertical-align: top;\n",
       "    }\n",
       "\n",
       "    .dataframe thead th {\n",
       "        text-align: right;\n",
       "    }\n",
       "</style>\n",
       "<table border=\"1\" class=\"dataframe\">\n",
       "  <thead>\n",
       "    <tr style=\"text-align: right;\">\n",
       "      <th></th>\n",
       "      <th>action_taken</th>\n",
       "    </tr>\n",
       "  </thead>\n",
       "  <tbody>\n",
       "    <tr>\n",
       "      <th>0</th>\n",
       "      <td>1</td>\n",
       "    </tr>\n",
       "    <tr>\n",
       "      <th>1</th>\n",
       "      <td>6</td>\n",
       "    </tr>\n",
       "    <tr>\n",
       "      <th>2</th>\n",
       "      <td>1</td>\n",
       "    </tr>\n",
       "    <tr>\n",
       "      <th>3</th>\n",
       "      <td>6</td>\n",
       "    </tr>\n",
       "    <tr>\n",
       "      <th>4</th>\n",
       "      <td>1</td>\n",
       "    </tr>\n",
       "  </tbody>\n",
       "</table>\n",
       "</div>"
      ],
      "text/plain": [
       "   action_taken\n",
       "0             1\n",
       "1             6\n",
       "2             1\n",
       "3             6\n",
       "4             1"
      ]
     },
     "execution_count": 14,
     "metadata": {},
     "output_type": "execute_result"
    }
   ],
   "source": [
    "target_df.head()"
   ]
  },
  {
   "cell_type": "code",
   "execution_count": 15,
   "id": "b4c6699c",
   "metadata": {},
   "outputs": [],
   "source": [
    "target_df.to_csv(\"hmda_all_target_action_final.csv\", index=False)"
   ]
  },
  {
   "cell_type": "code",
   "execution_count": 16,
   "id": "396fcfa1",
   "metadata": {},
   "outputs": [],
   "source": [
    "del features_df['denial_reason_1']\n",
    "del features_df['action_taken']"
   ]
  },
  {
   "cell_type": "code",
   "execution_count": 17,
   "id": "f2c35222",
   "metadata": {},
   "outputs": [
    {
     "data": {
      "text/plain": [
       "['applicant_race_2',\n",
       " 'applicant_race_3',\n",
       " 'applicant_race_4',\n",
       " 'applicant_race_5',\n",
       " 'co_applicant_race_2',\n",
       " 'co_applicant_race_3',\n",
       " 'co_applicant_race_4',\n",
       " 'co_applicant_race_5',\n",
       " 'has_co_applicant']"
      ]
     },
     "execution_count": 17,
     "metadata": {},
     "output_type": "execute_result"
    }
   ],
   "source": [
    "features_df.columns[features_df.isna().any()].tolist() # demo; has_co_applicant"
   ]
  },
  {
   "cell_type": "code",
   "execution_count": 18,
   "id": "13b3692c",
   "metadata": {},
   "outputs": [],
   "source": [
    "# drop co_applicant race 2-5\n",
    "# drop applicant race 2-5\n",
    "\n",
    "del features_df['applicant_race_2']\n",
    "del features_df['applicant_race_3']\n",
    "del features_df['applicant_race_4']\n",
    "del features_df['applicant_race_5']\n",
    "del features_df['co_applicant_race_2']\n",
    "del features_df['co_applicant_race_3']\n",
    "del features_df['co_applicant_race_4']\n",
    "del features_df['co_applicant_race_5']"
   ]
  },
  {
   "cell_type": "code",
   "execution_count": 19,
   "id": "9d08e8f9",
   "metadata": {},
   "outputs": [
    {
     "data": {
      "text/plain": [
       "['has_co_applicant']"
      ]
     },
     "execution_count": 19,
     "metadata": {},
     "output_type": "execute_result"
    }
   ],
   "source": [
    "features_df.columns[features_df.isna().any()].tolist() # has_co_applicant"
   ]
  },
  {
   "cell_type": "code",
   "execution_count": 20,
   "id": "011ba279",
   "metadata": {},
   "outputs": [
    {
     "name": "stdout",
     "output_type": "stream",
     "text": [
      "11870332\n"
     ]
    }
   ],
   "source": [
    "print(len(features_df.loc[features_df['has_co_applicant'].isna()].index))"
   ]
  },
  {
   "cell_type": "code",
   "execution_count": 21,
   "id": "2f0967c0",
   "metadata": {},
   "outputs": [],
   "source": [
    "features_df.to_csv(output_name_f, index=False)"
   ]
  },
  {
   "cell_type": "code",
   "execution_count": 22,
   "id": "4325b832",
   "metadata": {},
   "outputs": [
    {
     "data": {
      "text/plain": [
       "(140191882, 29)"
      ]
     },
     "execution_count": 22,
     "metadata": {},
     "output_type": "execute_result"
    }
   ],
   "source": [
    "m, n = features_df.shape\n",
    "m, n"
   ]
  }
 ],
 "metadata": {
  "kernelspec": {
   "display_name": "Python 3",
   "language": "python",
   "name": "python3"
  },
  "language_info": {
   "codemirror_mode": {
    "name": "ipython",
    "version": 3
   },
   "file_extension": ".py",
   "mimetype": "text/x-python",
   "name": "python",
   "nbconvert_exporter": "python",
   "pygments_lexer": "ipython3",
   "version": "3.8.8"
  }
 },
 "nbformat": 4,
 "nbformat_minor": 5
}
