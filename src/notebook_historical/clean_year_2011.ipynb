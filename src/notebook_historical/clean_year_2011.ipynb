{
 "cells": [
  {
   "cell_type": "code",
   "execution_count": 1,
   "id": "43b19116",
   "metadata": {},
   "outputs": [],
   "source": [
    "import pandas as pd\n",
    "import numpy as np"
   ]
  },
  {
   "cell_type": "markdown",
   "id": "21a45a4d",
   "metadata": {},
   "source": [
    "# Run initial dropping of columns"
   ]
  },
  {
   "cell_type": "code",
   "execution_count": 2,
   "id": "df2a319b",
   "metadata": {},
   "outputs": [],
   "source": [
    "def clean_initial(path, output_path):\n",
    "    name, _ = path.split(\".\")\n",
    "    df = pd.read_csv(path)\n",
    "\n",
    "    # delete columns with alpha data\n",
    "    del df['respondent_id'] # save elsewhere \n",
    "    del df['agency_name']\n",
    "    del df['agency_abbr']\n",
    "    del df['loan_type_name']\n",
    "    del df['property_type_name']\n",
    "    del df['loan_purpose_name']\n",
    "    del df['owner_occupancy_name']\n",
    "    del df['preapproval_name']\n",
    "    del df['action_taken_name']\n",
    "    del df['msamd_name']\n",
    "    del df['state_name']\n",
    "    del df['county_name']\n",
    "    del df['applicant_ethnicity_name']\n",
    "    del df['co_applicant_ethnicity_name']\n",
    "    del df['applicant_race_name_1']\n",
    "    del df['applicant_race_name_2']\n",
    "    del df['applicant_race_name_3']\n",
    "    del df['applicant_race_name_4']\n",
    "    del df['applicant_race_name_5']\n",
    "    del df['co_applicant_race_name_1']\n",
    "    del df['co_applicant_race_name_2']\n",
    "    del df['co_applicant_race_name_3']\n",
    "    del df['co_applicant_race_name_4']\n",
    "    del df['co_applicant_race_name_5']\n",
    "    del df['applicant_sex_name']\n",
    "    del df['co_applicant_sex_name']\n",
    "    del df['purchaser_type_name']\n",
    "    del df['denial_reason_name_1']\n",
    "    del df['denial_reason_name_2']\n",
    "    del df['denial_reason_name_3']\n",
    "    del df['hoepa_status_name']\n",
    "    del df['lien_status_name']\n",
    "    del df['edit_status_name']\n",
    "    del df['application_date_indicator'] # a 2004 date indicator\n",
    "    \n",
    "    # delete proxies\n",
    "    del df['lien_status'] # also a proxy\n",
    "    del df['hoepa_status'] # only for originated loans, so proxy\n",
    "    \n",
    "    # some missing state info; delete those since we need that to subdivide\n",
    "    # some missing state info; remove those rows\n",
    "    df = df.dropna(subset=['state_abbr', 'state_code'])\n",
    "    return df"
   ]
  },
  {
   "cell_type": "code",
   "execution_count": 3,
   "id": "dd6d3b26",
   "metadata": {},
   "outputs": [],
   "source": [
    "data_fn = \"hmda_2011_nationwide_all-records_labels.csv\""
   ]
  },
  {
   "cell_type": "code",
   "execution_count": 4,
   "id": "bebb59dd",
   "metadata": {},
   "outputs": [
    {
     "name": "stderr",
     "output_type": "stream",
     "text": [
      "<ipython-input-2-feb12b8277c2>:3: DtypeWarning: Columns (34,36,38,44,46,48) have mixed types. Specify dtype option on import or set low_memory=False.\n",
      "  df = pd.read_csv(path)\n"
     ]
    },
    {
     "data": {
      "text/plain": [
       "(14588486, 42)"
      ]
     },
     "execution_count": 4,
     "metadata": {},
     "output_type": "execute_result"
    }
   ],
   "source": [
    "clean_df = clean_initial(data_fn, \"./\")\n",
    "m, n = clean_df.shape\n",
    "m, n"
   ]
  },
  {
   "cell_type": "code",
   "execution_count": 5,
   "id": "d4620118",
   "metadata": {},
   "outputs": [
    {
     "data": {
      "text/html": [
       "<div>\n",
       "<style scoped>\n",
       "    .dataframe tbody tr th:only-of-type {\n",
       "        vertical-align: middle;\n",
       "    }\n",
       "\n",
       "    .dataframe tbody tr th {\n",
       "        vertical-align: top;\n",
       "    }\n",
       "\n",
       "    .dataframe thead th {\n",
       "        text-align: right;\n",
       "    }\n",
       "</style>\n",
       "<table border=\"1\" class=\"dataframe\">\n",
       "  <thead>\n",
       "    <tr style=\"text-align: right;\">\n",
       "      <th></th>\n",
       "      <th>as_of_year</th>\n",
       "      <th>agency_code</th>\n",
       "      <th>loan_type</th>\n",
       "      <th>property_type</th>\n",
       "      <th>loan_purpose</th>\n",
       "      <th>owner_occupancy</th>\n",
       "      <th>loan_amount_000s</th>\n",
       "      <th>preapproval</th>\n",
       "      <th>action_taken</th>\n",
       "      <th>msamd</th>\n",
       "      <th>...</th>\n",
       "      <th>denial_reason_3</th>\n",
       "      <th>rate_spread</th>\n",
       "      <th>edit_status</th>\n",
       "      <th>sequence_number</th>\n",
       "      <th>population</th>\n",
       "      <th>minority_population</th>\n",
       "      <th>hud_median_family_income</th>\n",
       "      <th>tract_to_msamd_income</th>\n",
       "      <th>number_of_owner_occupied_units</th>\n",
       "      <th>number_of_1_to_4_family_units</th>\n",
       "    </tr>\n",
       "  </thead>\n",
       "  <tbody>\n",
       "    <tr>\n",
       "      <th>0</th>\n",
       "      <td>2011</td>\n",
       "      <td>9</td>\n",
       "      <td>1</td>\n",
       "      <td>1</td>\n",
       "      <td>3</td>\n",
       "      <td>1</td>\n",
       "      <td>122</td>\n",
       "      <td>3</td>\n",
       "      <td>1</td>\n",
       "      <td>37964.0</td>\n",
       "      <td>...</td>\n",
       "      <td>NaN</td>\n",
       "      <td>NaN</td>\n",
       "      <td>NaN</td>\n",
       "      <td>4062</td>\n",
       "      <td>4511.0</td>\n",
       "      <td>6.410000</td>\n",
       "      <td>78100.0</td>\n",
       "      <td>134.350006</td>\n",
       "      <td>1245.0</td>\n",
       "      <td>1297.0</td>\n",
       "    </tr>\n",
       "    <tr>\n",
       "      <th>1</th>\n",
       "      <td>2011</td>\n",
       "      <td>9</td>\n",
       "      <td>1</td>\n",
       "      <td>1</td>\n",
       "      <td>3</td>\n",
       "      <td>1</td>\n",
       "      <td>347</td>\n",
       "      <td>3</td>\n",
       "      <td>1</td>\n",
       "      <td>NaN</td>\n",
       "      <td>...</td>\n",
       "      <td>NaN</td>\n",
       "      <td>NaN</td>\n",
       "      <td>NaN</td>\n",
       "      <td>43056</td>\n",
       "      <td>4805.0</td>\n",
       "      <td>9.410000</td>\n",
       "      <td>57200.0</td>\n",
       "      <td>137.020004</td>\n",
       "      <td>1532.0</td>\n",
       "      <td>2066.0</td>\n",
       "    </tr>\n",
       "    <tr>\n",
       "      <th>2</th>\n",
       "      <td>2011</td>\n",
       "      <td>9</td>\n",
       "      <td>1</td>\n",
       "      <td>1</td>\n",
       "      <td>3</td>\n",
       "      <td>1</td>\n",
       "      <td>371</td>\n",
       "      <td>3</td>\n",
       "      <td>6</td>\n",
       "      <td>41740.0</td>\n",
       "      <td>...</td>\n",
       "      <td>NaN</td>\n",
       "      <td>NaN</td>\n",
       "      <td>NaN</td>\n",
       "      <td>125241</td>\n",
       "      <td>7486.0</td>\n",
       "      <td>37.590000</td>\n",
       "      <td>74900.0</td>\n",
       "      <td>113.779999</td>\n",
       "      <td>1760.0</td>\n",
       "      <td>2201.0</td>\n",
       "    </tr>\n",
       "    <tr>\n",
       "      <th>3</th>\n",
       "      <td>2011</td>\n",
       "      <td>9</td>\n",
       "      <td>3</td>\n",
       "      <td>1</td>\n",
       "      <td>1</td>\n",
       "      <td>1</td>\n",
       "      <td>184</td>\n",
       "      <td>3</td>\n",
       "      <td>1</td>\n",
       "      <td>NaN</td>\n",
       "      <td>...</td>\n",
       "      <td>NaN</td>\n",
       "      <td>NaN</td>\n",
       "      <td>NaN</td>\n",
       "      <td>25551</td>\n",
       "      <td>13833.0</td>\n",
       "      <td>19.549999</td>\n",
       "      <td>49500.0</td>\n",
       "      <td>137.589996</td>\n",
       "      <td>4864.0</td>\n",
       "      <td>6024.0</td>\n",
       "    </tr>\n",
       "    <tr>\n",
       "      <th>4</th>\n",
       "      <td>2011</td>\n",
       "      <td>9</td>\n",
       "      <td>2</td>\n",
       "      <td>1</td>\n",
       "      <td>3</td>\n",
       "      <td>1</td>\n",
       "      <td>121</td>\n",
       "      <td>3</td>\n",
       "      <td>3</td>\n",
       "      <td>26420.0</td>\n",
       "      <td>...</td>\n",
       "      <td>NaN</td>\n",
       "      <td>NaN</td>\n",
       "      <td>NaN</td>\n",
       "      <td>625240</td>\n",
       "      <td>10105.0</td>\n",
       "      <td>68.639999</td>\n",
       "      <td>66000.0</td>\n",
       "      <td>75.050003</td>\n",
       "      <td>2178.0</td>\n",
       "      <td>3138.0</td>\n",
       "    </tr>\n",
       "  </tbody>\n",
       "</table>\n",
       "<p>5 rows × 42 columns</p>\n",
       "</div>"
      ],
      "text/plain": [
       "   as_of_year  agency_code  loan_type  property_type  loan_purpose  \\\n",
       "0        2011            9          1              1             3   \n",
       "1        2011            9          1              1             3   \n",
       "2        2011            9          1              1             3   \n",
       "3        2011            9          3              1             1   \n",
       "4        2011            9          2              1             3   \n",
       "\n",
       "   owner_occupancy  loan_amount_000s  preapproval  action_taken    msamd  ...  \\\n",
       "0                1               122            3             1  37964.0  ...   \n",
       "1                1               347            3             1      NaN  ...   \n",
       "2                1               371            3             6  41740.0  ...   \n",
       "3                1               184            3             1      NaN  ...   \n",
       "4                1               121            3             3  26420.0  ...   \n",
       "\n",
       "  denial_reason_3  rate_spread  edit_status  sequence_number  population  \\\n",
       "0             NaN          NaN          NaN             4062      4511.0   \n",
       "1             NaN          NaN          NaN            43056      4805.0   \n",
       "2             NaN          NaN          NaN           125241      7486.0   \n",
       "3             NaN          NaN          NaN            25551     13833.0   \n",
       "4             NaN          NaN          NaN           625240     10105.0   \n",
       "\n",
       "   minority_population  hud_median_family_income  tract_to_msamd_income  \\\n",
       "0             6.410000                   78100.0             134.350006   \n",
       "1             9.410000                   57200.0             137.020004   \n",
       "2            37.590000                   74900.0             113.779999   \n",
       "3            19.549999                   49500.0             137.589996   \n",
       "4            68.639999                   66000.0              75.050003   \n",
       "\n",
       "   number_of_owner_occupied_units  number_of_1_to_4_family_units  \n",
       "0                          1245.0                         1297.0  \n",
       "1                          1532.0                         2066.0  \n",
       "2                          1760.0                         2201.0  \n",
       "3                          4864.0                         6024.0  \n",
       "4                          2178.0                         3138.0  \n",
       "\n",
       "[5 rows x 42 columns]"
      ]
     },
     "execution_count": 5,
     "metadata": {},
     "output_type": "execute_result"
    }
   ],
   "source": [
    "clean_df.head()"
   ]
  },
  {
   "cell_type": "code",
   "execution_count": 6,
   "id": "2763c013",
   "metadata": {},
   "outputs": [
    {
     "data": {
      "text/plain": [
       "(14588486, 42)"
      ]
     },
     "execution_count": 6,
     "metadata": {},
     "output_type": "execute_result"
    }
   ],
   "source": [
    "# some missing loan amount; need this\n",
    "clean_df = clean_df.dropna(subset=['loan_amount_000s'])\n",
    "m, n = clean_df.shape\n",
    "m, n"
   ]
  },
  {
   "cell_type": "markdown",
   "id": "48db0342",
   "metadata": {},
   "source": [
    "# First NaN Filter"
   ]
  },
  {
   "cell_type": "code",
   "execution_count": 7,
   "id": "fb55a57e",
   "metadata": {},
   "outputs": [
    {
     "data": {
      "text/plain": [
       "['msamd',\n",
       " 'county_code',\n",
       " 'census_tract_number',\n",
       " 'applicant_race_2',\n",
       " 'applicant_race_3',\n",
       " 'applicant_race_4',\n",
       " 'applicant_race_5',\n",
       " 'co_applicant_race_2',\n",
       " 'co_applicant_race_3',\n",
       " 'co_applicant_race_4',\n",
       " 'co_applicant_race_5',\n",
       " 'applicant_income_000s',\n",
       " 'denial_reason_1',\n",
       " 'denial_reason_2',\n",
       " 'denial_reason_3',\n",
       " 'rate_spread',\n",
       " 'edit_status',\n",
       " 'population',\n",
       " 'minority_population',\n",
       " 'hud_median_family_income',\n",
       " 'tract_to_msamd_income',\n",
       " 'number_of_owner_occupied_units',\n",
       " 'number_of_1_to_4_family_units']"
      ]
     },
     "execution_count": 7,
     "metadata": {},
     "output_type": "execute_result"
    }
   ],
   "source": [
    "clean_df.columns[clean_df.isna().any()].tolist()"
   ]
  },
  {
   "cell_type": "code",
   "execution_count": 8,
   "id": "ceb9f7e9",
   "metadata": {},
   "outputs": [
    {
     "data": {
      "text/plain": [
       "(14504010, 42)"
      ]
     },
     "execution_count": 8,
     "metadata": {},
     "output_type": "execute_result"
    }
   ],
   "source": [
    "# some missing crucial census info; remove\n",
    "clean_df = clean_df.dropna(subset=['county_code'])\n",
    "clean_df = clean_df.dropna(subset=['census_tract_number'])\n",
    "clean_df = clean_df.dropna(subset=['population'])\n",
    "clean_df = clean_df.dropna(subset=['minority_population'])\n",
    "clean_df = clean_df.dropna(subset=['hud_median_family_income'])\n",
    "clean_df = clean_df.dropna(subset=['tract_to_msamd_income'])\n",
    "clean_df = clean_df.dropna(subset=['number_of_owner_occupied_units'])\n",
    "clean_df = clean_df.dropna(subset=['number_of_1_to_4_family_units'])\n",
    "\n",
    "m, n = clean_df.shape\n",
    "m, n"
   ]
  },
  {
   "cell_type": "markdown",
   "id": "d9d8b94e",
   "metadata": {},
   "source": [
    "# Second NaN Filter"
   ]
  },
  {
   "cell_type": "code",
   "execution_count": 9,
   "id": "299d562b",
   "metadata": {},
   "outputs": [
    {
     "data": {
      "text/plain": [
       "['msamd',\n",
       " 'applicant_race_2',\n",
       " 'applicant_race_3',\n",
       " 'applicant_race_4',\n",
       " 'applicant_race_5',\n",
       " 'co_applicant_race_2',\n",
       " 'co_applicant_race_3',\n",
       " 'co_applicant_race_4',\n",
       " 'co_applicant_race_5',\n",
       " 'applicant_income_000s',\n",
       " 'denial_reason_1',\n",
       " 'denial_reason_2',\n",
       " 'denial_reason_3',\n",
       " 'rate_spread',\n",
       " 'edit_status']"
      ]
     },
     "execution_count": 9,
     "metadata": {},
     "output_type": "execute_result"
    }
   ],
   "source": [
    "clean_df.columns[clean_df.isna().any()].tolist()"
   ]
  },
  {
   "cell_type": "code",
   "execution_count": 10,
   "id": "1d4b6496",
   "metadata": {},
   "outputs": [
    {
     "name": "stdout",
     "output_type": "stream",
     "text": [
      "Int64Index([       1,        3,        7,       14,       17,       23,\n",
      "                  44,       47,       60,       62,\n",
      "            ...\n",
      "            14873336, 14873350, 14873368, 14873369, 14873370, 14873383,\n",
      "            14873390, 14873408, 14873411, 14873414],\n",
      "           dtype='int64', length=1776151)\n",
      "Int64Index([       2,       11,       12,       19,       28,       31,\n",
      "                  32,       38,       40,       41,\n",
      "            ...\n",
      "            14873343, 14873357, 14873359, 14873375, 14873379, 14873385,\n",
      "            14873387, 14873397, 14873409, 14873411],\n",
      "           dtype='int64', length=1885774)\n"
     ]
    }
   ],
   "source": [
    "print(clean_df.loc[clean_df['msamd'].isna()].index)\n",
    "# keep msamd; about 7% missing it, can filter out those examples or remove column, leave up to user\n",
    "\n",
    "print(clean_df.loc[clean_df['applicant_income_000s'].isna()].index)\n",
    "# keep applicant_income, but note that about 12% missing this; can also leave up to user"
   ]
  },
  {
   "cell_type": "code",
   "execution_count": 11,
   "id": "ffd2d143",
   "metadata": {},
   "outputs": [],
   "source": [
    "# drop rows where msamd is NA\n",
    "msamd_nan = clean_df.loc[clean_df['msamd'].isna()].index.tolist()\n",
    "clean_df = clean_df.drop(msamd_nan)"
   ]
  },
  {
   "cell_type": "code",
   "execution_count": 12,
   "id": "396bcdcb",
   "metadata": {},
   "outputs": [],
   "source": [
    "# drop rows where applicant_income_000s is NaN  \n",
    "income_nan = clean_df.loc[clean_df['applicant_income_000s'].isna()].index.tolist()\n",
    "clean_df = clean_df.drop(income_nan)"
   ]
  },
  {
   "cell_type": "markdown",
   "id": "4d32e440",
   "metadata": {},
   "source": [
    "# Third NaN Filter"
   ]
  },
  {
   "cell_type": "code",
   "execution_count": 13,
   "id": "8324d6ac",
   "metadata": {},
   "outputs": [
    {
     "name": "stdout",
     "output_type": "stream",
     "text": [
      "167586\n"
     ]
    }
   ],
   "source": [
    "print(len(clean_df.loc[~clean_df['rate_spread'].isna()].index))"
   ]
  },
  {
   "cell_type": "code",
   "execution_count": 14,
   "id": "a386e54f",
   "metadata": {},
   "outputs": [],
   "source": [
    "# almost everything is missing rate spread; delete it\n",
    "del clean_df['rate_spread']"
   ]
  },
  {
   "cell_type": "code",
   "execution_count": 15,
   "id": "32e4df4b",
   "metadata": {},
   "outputs": [
    {
     "name": "stdout",
     "output_type": "stream",
     "text": [
      "0\n"
     ]
    }
   ],
   "source": [
    "print(len(clean_df.loc[clean_df['sequence_number'].isna()].index))"
   ]
  },
  {
   "cell_type": "code",
   "execution_count": 16,
   "id": "25519894",
   "metadata": {},
   "outputs": [
    {
     "name": "stdout",
     "output_type": "stream",
     "text": [
      "1916480\n"
     ]
    }
   ],
   "source": [
    "print(len(clean_df.loc[~clean_df['edit_status'].isna()].index))"
   ]
  },
  {
   "cell_type": "code",
   "execution_count": 17,
   "id": "d9e6e9af",
   "metadata": {},
   "outputs": [
    {
     "name": "stdout",
     "output_type": "stream",
     "text": [
      "0\n"
     ]
    }
   ],
   "source": [
    "# significant number of loans have edit status set; valid statuses are 6, 7, 8; set to 0 if NA\n",
    "clean_df[\"edit_status\"] = clean_df[\"edit_status\"].fillna(0)\n",
    "print(len(clean_df.loc[clean_df['edit_status'].isna()].index))"
   ]
  },
  {
   "cell_type": "markdown",
   "id": "9cb40937",
   "metadata": {},
   "source": [
    "# Fourth NaN Check"
   ]
  },
  {
   "cell_type": "code",
   "execution_count": 18,
   "id": "e12ccda6",
   "metadata": {},
   "outputs": [
    {
     "data": {
      "text/plain": [
       "['applicant_race_2',\n",
       " 'applicant_race_3',\n",
       " 'applicant_race_4',\n",
       " 'applicant_race_5',\n",
       " 'co_applicant_race_2',\n",
       " 'co_applicant_race_3',\n",
       " 'co_applicant_race_4',\n",
       " 'co_applicant_race_5',\n",
       " 'denial_reason_1',\n",
       " 'denial_reason_2',\n",
       " 'denial_reason_3']"
      ]
     },
     "execution_count": 18,
     "metadata": {},
     "output_type": "execute_result"
    }
   ],
   "source": [
    "clean_df.columns[clean_df.isna().any()].tolist()"
   ]
  },
  {
   "cell_type": "code",
   "execution_count": 19,
   "id": "1ddcd22c",
   "metadata": {},
   "outputs": [
    {
     "data": {
      "text/plain": [
       "['as_of_year',\n",
       " 'agency_code',\n",
       " 'loan_type',\n",
       " 'property_type',\n",
       " 'loan_purpose',\n",
       " 'owner_occupancy',\n",
       " 'loan_amount_000s',\n",
       " 'preapproval',\n",
       " 'action_taken',\n",
       " 'msamd',\n",
       " 'state_abbr',\n",
       " 'state_code',\n",
       " 'county_code',\n",
       " 'census_tract_number',\n",
       " 'applicant_ethnicity',\n",
       " 'co_applicant_ethnicity',\n",
       " 'applicant_race_1',\n",
       " 'co_applicant_race_1',\n",
       " 'applicant_sex',\n",
       " 'co_applicant_sex',\n",
       " 'applicant_income_000s',\n",
       " 'purchaser_type',\n",
       " 'edit_status',\n",
       " 'sequence_number',\n",
       " 'population',\n",
       " 'minority_population',\n",
       " 'hud_median_family_income',\n",
       " 'tract_to_msamd_income',\n",
       " 'number_of_owner_occupied_units',\n",
       " 'number_of_1_to_4_family_units']"
      ]
     },
     "execution_count": 19,
     "metadata": {},
     "output_type": "execute_result"
    }
   ],
   "source": [
    "clean_df.columns[~clean_df.isna().any()].tolist()"
   ]
  },
  {
   "cell_type": "markdown",
   "id": "12243406",
   "metadata": {},
   "source": [
    "# Co-applicant binarization"
   ]
  },
  {
   "cell_type": "code",
   "execution_count": 20,
   "id": "2d0aa7a2",
   "metadata": {},
   "outputs": [],
   "source": [
    "clean_df['has_co_applicant'] = np.nan\n",
    "# these are the race ids that correspond to an identified race\n",
    "co_app_ids = clean_df.index[clean_df['co_applicant_race_1'].isin([1,2,3,4,5])].tolist()\n",
    "# this is the id for \"no co-applicant\"\n",
    "no_co_app_ids = clean_df.index[clean_df['co_applicant_race_1'] == 8].tolist()\n",
    "clean_df.loc[co_app_ids,['has_co_applicant']] = [1]\n",
    "clean_df.loc[no_co_app_ids,['has_co_applicant']] = [0]"
   ]
  },
  {
   "cell_type": "code",
   "execution_count": 21,
   "id": "f165447e",
   "metadata": {},
   "outputs": [
    {
     "data": {
      "text/html": [
       "<div>\n",
       "<style scoped>\n",
       "    .dataframe tbody tr th:only-of-type {\n",
       "        vertical-align: middle;\n",
       "    }\n",
       "\n",
       "    .dataframe tbody tr th {\n",
       "        vertical-align: top;\n",
       "    }\n",
       "\n",
       "    .dataframe thead th {\n",
       "        text-align: right;\n",
       "    }\n",
       "</style>\n",
       "<table border=\"1\" class=\"dataframe\">\n",
       "  <thead>\n",
       "    <tr style=\"text-align: right;\">\n",
       "      <th></th>\n",
       "      <th>as_of_year</th>\n",
       "      <th>agency_code</th>\n",
       "      <th>loan_type</th>\n",
       "      <th>property_type</th>\n",
       "      <th>loan_purpose</th>\n",
       "      <th>owner_occupancy</th>\n",
       "      <th>loan_amount_000s</th>\n",
       "      <th>preapproval</th>\n",
       "      <th>action_taken</th>\n",
       "      <th>msamd</th>\n",
       "      <th>...</th>\n",
       "      <th>denial_reason_3</th>\n",
       "      <th>edit_status</th>\n",
       "      <th>sequence_number</th>\n",
       "      <th>population</th>\n",
       "      <th>minority_population</th>\n",
       "      <th>hud_median_family_income</th>\n",
       "      <th>tract_to_msamd_income</th>\n",
       "      <th>number_of_owner_occupied_units</th>\n",
       "      <th>number_of_1_to_4_family_units</th>\n",
       "      <th>has_co_applicant</th>\n",
       "    </tr>\n",
       "  </thead>\n",
       "  <tbody>\n",
       "    <tr>\n",
       "      <th>0</th>\n",
       "      <td>2011</td>\n",
       "      <td>9</td>\n",
       "      <td>1</td>\n",
       "      <td>1</td>\n",
       "      <td>3</td>\n",
       "      <td>1</td>\n",
       "      <td>122</td>\n",
       "      <td>3</td>\n",
       "      <td>1</td>\n",
       "      <td>37964.0</td>\n",
       "      <td>...</td>\n",
       "      <td>NaN</td>\n",
       "      <td>0.0</td>\n",
       "      <td>4062</td>\n",
       "      <td>4511.0</td>\n",
       "      <td>6.410000</td>\n",
       "      <td>78100.0</td>\n",
       "      <td>134.350006</td>\n",
       "      <td>1245.0</td>\n",
       "      <td>1297.0</td>\n",
       "      <td>0.0</td>\n",
       "    </tr>\n",
       "    <tr>\n",
       "      <th>4</th>\n",
       "      <td>2011</td>\n",
       "      <td>9</td>\n",
       "      <td>2</td>\n",
       "      <td>1</td>\n",
       "      <td>3</td>\n",
       "      <td>1</td>\n",
       "      <td>121</td>\n",
       "      <td>3</td>\n",
       "      <td>3</td>\n",
       "      <td>26420.0</td>\n",
       "      <td>...</td>\n",
       "      <td>NaN</td>\n",
       "      <td>0.0</td>\n",
       "      <td>625240</td>\n",
       "      <td>10105.0</td>\n",
       "      <td>68.639999</td>\n",
       "      <td>66000.0</td>\n",
       "      <td>75.050003</td>\n",
       "      <td>2178.0</td>\n",
       "      <td>3138.0</td>\n",
       "      <td>0.0</td>\n",
       "    </tr>\n",
       "    <tr>\n",
       "      <th>5</th>\n",
       "      <td>2011</td>\n",
       "      <td>7</td>\n",
       "      <td>1</td>\n",
       "      <td>1</td>\n",
       "      <td>3</td>\n",
       "      <td>1</td>\n",
       "      <td>417</td>\n",
       "      <td>3</td>\n",
       "      <td>1</td>\n",
       "      <td>38900.0</td>\n",
       "      <td>...</td>\n",
       "      <td>NaN</td>\n",
       "      <td>0.0</td>\n",
       "      <td>1035</td>\n",
       "      <td>6653.0</td>\n",
       "      <td>8.000000</td>\n",
       "      <td>72000.0</td>\n",
       "      <td>130.419998</td>\n",
       "      <td>2270.0</td>\n",
       "      <td>2640.0</td>\n",
       "      <td>1.0</td>\n",
       "    </tr>\n",
       "    <tr>\n",
       "      <th>6</th>\n",
       "      <td>2011</td>\n",
       "      <td>7</td>\n",
       "      <td>1</td>\n",
       "      <td>1</td>\n",
       "      <td>3</td>\n",
       "      <td>1</td>\n",
       "      <td>822</td>\n",
       "      <td>3</td>\n",
       "      <td>1</td>\n",
       "      <td>14484.0</td>\n",
       "      <td>...</td>\n",
       "      <td>NaN</td>\n",
       "      <td>0.0</td>\n",
       "      <td>302</td>\n",
       "      <td>5881.0</td>\n",
       "      <td>28.180000</td>\n",
       "      <td>87600.0</td>\n",
       "      <td>145.029999</td>\n",
       "      <td>920.0</td>\n",
       "      <td>204.0</td>\n",
       "      <td>1.0</td>\n",
       "    </tr>\n",
       "    <tr>\n",
       "      <th>8</th>\n",
       "      <td>2011</td>\n",
       "      <td>9</td>\n",
       "      <td>1</td>\n",
       "      <td>1</td>\n",
       "      <td>3</td>\n",
       "      <td>1</td>\n",
       "      <td>417</td>\n",
       "      <td>3</td>\n",
       "      <td>1</td>\n",
       "      <td>41884.0</td>\n",
       "      <td>...</td>\n",
       "      <td>NaN</td>\n",
       "      <td>0.0</td>\n",
       "      <td>1033361</td>\n",
       "      <td>3497.0</td>\n",
       "      <td>15.560000</td>\n",
       "      <td>101600.0</td>\n",
       "      <td>202.699997</td>\n",
       "      <td>574.0</td>\n",
       "      <td>967.0</td>\n",
       "      <td>1.0</td>\n",
       "    </tr>\n",
       "  </tbody>\n",
       "</table>\n",
       "<p>5 rows × 42 columns</p>\n",
       "</div>"
      ],
      "text/plain": [
       "   as_of_year  agency_code  loan_type  property_type  loan_purpose  \\\n",
       "0        2011            9          1              1             3   \n",
       "4        2011            9          2              1             3   \n",
       "5        2011            7          1              1             3   \n",
       "6        2011            7          1              1             3   \n",
       "8        2011            9          1              1             3   \n",
       "\n",
       "   owner_occupancy  loan_amount_000s  preapproval  action_taken    msamd  ...  \\\n",
       "0                1               122            3             1  37964.0  ...   \n",
       "4                1               121            3             3  26420.0  ...   \n",
       "5                1               417            3             1  38900.0  ...   \n",
       "6                1               822            3             1  14484.0  ...   \n",
       "8                1               417            3             1  41884.0  ...   \n",
       "\n",
       "  denial_reason_3  edit_status  sequence_number  population  \\\n",
       "0             NaN          0.0             4062      4511.0   \n",
       "4             NaN          0.0           625240     10105.0   \n",
       "5             NaN          0.0             1035      6653.0   \n",
       "6             NaN          0.0              302      5881.0   \n",
       "8             NaN          0.0          1033361      3497.0   \n",
       "\n",
       "   minority_population  hud_median_family_income  tract_to_msamd_income  \\\n",
       "0             6.410000                   78100.0             134.350006   \n",
       "4            68.639999                   66000.0              75.050003   \n",
       "5             8.000000                   72000.0             130.419998   \n",
       "6            28.180000                   87600.0             145.029999   \n",
       "8            15.560000                  101600.0             202.699997   \n",
       "\n",
       "   number_of_owner_occupied_units  number_of_1_to_4_family_units  \\\n",
       "0                          1245.0                         1297.0   \n",
       "4                          2178.0                         3138.0   \n",
       "5                          2270.0                         2640.0   \n",
       "6                           920.0                          204.0   \n",
       "8                           574.0                          967.0   \n",
       "\n",
       "   has_co_applicant  \n",
       "0               0.0  \n",
       "4               0.0  \n",
       "5               1.0  \n",
       "6               1.0  \n",
       "8               1.0  \n",
       "\n",
       "[5 rows x 42 columns]"
      ]
     },
     "execution_count": 21,
     "metadata": {},
     "output_type": "execute_result"
    }
   ],
   "source": [
    "clean_df.head()"
   ]
  },
  {
   "cell_type": "code",
   "execution_count": 22,
   "id": "20b6b0ee",
   "metadata": {},
   "outputs": [
    {
     "data": {
      "text/plain": [
       "['applicant_race_2',\n",
       " 'applicant_race_3',\n",
       " 'applicant_race_4',\n",
       " 'applicant_race_5',\n",
       " 'co_applicant_race_2',\n",
       " 'co_applicant_race_3',\n",
       " 'co_applicant_race_4',\n",
       " 'co_applicant_race_5',\n",
       " 'denial_reason_1',\n",
       " 'denial_reason_2',\n",
       " 'denial_reason_3',\n",
       " 'has_co_applicant']"
      ]
     },
     "execution_count": 22,
     "metadata": {},
     "output_type": "execute_result"
    }
   ],
   "source": [
    "clean_df.columns[clean_df.isna().any()].tolist() # should have 'has_co_applicant'; demographic, denial reasons"
   ]
  },
  {
   "cell_type": "markdown",
   "id": "94d5409d",
   "metadata": {},
   "source": [
    "# Save into one giant file"
   ]
  },
  {
   "cell_type": "code",
   "execution_count": 23,
   "id": "d6b43625",
   "metadata": {},
   "outputs": [],
   "source": [
    "output_name = \"hmda_2011_bulk.csv\"\n",
    "clean_df.to_csv(output_name, index=False)"
   ]
  },
  {
   "cell_type": "markdown",
   "id": "cbfa2f61",
   "metadata": {},
   "source": [
    "# Split into different dataframes and save"
   ]
  },
  {
   "cell_type": "markdown",
   "id": "d2ab1c36",
   "metadata": {},
   "source": [
    "## Target"
   ]
  },
  {
   "cell_type": "code",
   "execution_count": null,
   "id": "7f5e9756",
   "metadata": {},
   "outputs": [],
   "source": [
    "target_df = clean_df[['action_taken',\n",
    "                      'denial_reason_1', \n",
    "                      'denial_reason_2', \n",
    "                      'denial_reason_3']]"
   ]
  },
  {
   "cell_type": "code",
   "execution_count": null,
   "id": "eea12e07",
   "metadata": {},
   "outputs": [],
   "source": [
    "target_df.head()"
   ]
  },
  {
   "cell_type": "code",
   "execution_count": null,
   "id": "d3c789e4",
   "metadata": {},
   "outputs": [],
   "source": [
    "m, n = target_df.shape\n",
    "m, n"
   ]
  },
  {
   "cell_type": "code",
   "execution_count": null,
   "id": "8f867dee",
   "metadata": {},
   "outputs": [],
   "source": [
    "base_out = \"hmda_{yr}_all_states_\".format(yr=2007)\n",
    "\n",
    "target_path = \"{b}target_final.csv\".format(b=base_out)\n",
    "target_df.to_csv(target_path)"
   ]
  },
  {
   "cell_type": "code",
   "execution_count": null,
   "id": "d07d5109",
   "metadata": {},
   "outputs": [],
   "source": [
    "del clean_df['denial_reason_1']\n",
    "del clean_df['denial_reason_2']\n",
    "del clean_df['denial_reason_3']\n",
    "del clean_df['action_taken']"
   ]
  },
  {
   "cell_type": "markdown",
   "id": "e19b7dec",
   "metadata": {},
   "source": [
    "## Protected attributes"
   ]
  },
  {
   "cell_type": "code",
   "execution_count": null,
   "id": "84320c5a",
   "metadata": {},
   "outputs": [],
   "source": [
    "clean_df.columns[clean_df.isna().any()].tolist() "
   ]
  },
  {
   "cell_type": "code",
   "execution_count": null,
   "id": "0e5a9d8a",
   "metadata": {},
   "outputs": [],
   "source": [
    "protected_attr_cols = ['applicant_ethnicity',\n",
    "                       'applicant_race_1',\n",
    "                       'applicant_race_2',\n",
    "                       'applicant_race_3',\n",
    "                       'applicant_race_4',\n",
    "                       'applicant_race_5',\n",
    "                       'applicant_sex',\n",
    "                       'co_applicant_ethnicity',\n",
    "                       'co_applicant_race_1', \n",
    "                       'co_applicant_race_2', \n",
    "                       'co_applicant_race_3', \n",
    "                       'co_applicant_race_4', \n",
    "                       'co_applicant_race_5',\n",
    "                       'co_applicant_sex']\n",
    "\n",
    "g_df = clean_df[protected_attr_cols]"
   ]
  },
  {
   "cell_type": "code",
   "execution_count": null,
   "id": "6bd6cf2c",
   "metadata": {},
   "outputs": [],
   "source": [
    "g_df.head()"
   ]
  },
  {
   "cell_type": "code",
   "execution_count": null,
   "id": "8f139b1c",
   "metadata": {},
   "outputs": [],
   "source": [
    "m, n = g_df.shape\n",
    "m, n"
   ]
  },
  {
   "cell_type": "code",
   "execution_count": null,
   "id": "ff8292d2",
   "metadata": {},
   "outputs": [],
   "source": [
    "g_path = \"{b}protected_final.csv\".format(b=base_out)\n",
    "g_df.to_csv(g_path)"
   ]
  },
  {
   "cell_type": "code",
   "execution_count": null,
   "id": "0a4a863e",
   "metadata": {},
   "outputs": [],
   "source": [
    "for c in protected_attr_cols:\n",
    "    del clean_df[c]"
   ]
  },
  {
   "cell_type": "code",
   "execution_count": null,
   "id": "11662bb9",
   "metadata": {},
   "outputs": [],
   "source": [
    "m, n = clean_df.shape\n",
    "m, n"
   ]
  },
  {
   "cell_type": "markdown",
   "id": "00c0210d",
   "metadata": {},
   "source": [
    "## Features"
   ]
  },
  {
   "cell_type": "code",
   "execution_count": null,
   "id": "e2b54981",
   "metadata": {},
   "outputs": [],
   "source": [
    "clean_df.columns[clean_df.isna().any()].tolist() # should be empty"
   ]
  },
  {
   "cell_type": "code",
   "execution_count": null,
   "id": "39b3ad10",
   "metadata": {},
   "outputs": [],
   "source": [
    "features_path = \"{b}features_final.csv\".format(b=base_out)\n",
    "clean_df.to_csv(features_path)"
   ]
  },
  {
   "cell_type": "code",
   "execution_count": null,
   "id": "03da4a83",
   "metadata": {},
   "outputs": [],
   "source": [
    "m, n = df.shape\n",
    "m, n"
   ]
  },
  {
   "cell_type": "code",
   "execution_count": null,
   "id": "b2462546",
   "metadata": {},
   "outputs": [],
   "source": [
    "m, n = g_df.shape\n",
    "m, n"
   ]
  },
  {
   "cell_type": "code",
   "execution_count": null,
   "id": "badc8278",
   "metadata": {},
   "outputs": [],
   "source": [
    "m, n = target_df.shape\n",
    "m, n\n",
    "target_df"
   ]
  }
 ],
 "metadata": {
  "kernelspec": {
   "display_name": "Python 3",
   "language": "python",
   "name": "python3"
  },
  "language_info": {
   "codemirror_mode": {
    "name": "ipython",
    "version": 3
   },
   "file_extension": ".py",
   "mimetype": "text/x-python",
   "name": "python",
   "nbconvert_exporter": "python",
   "pygments_lexer": "ipython3",
   "version": "3.8.8"
  }
 },
 "nbformat": 4,
 "nbformat_minor": 5
}
