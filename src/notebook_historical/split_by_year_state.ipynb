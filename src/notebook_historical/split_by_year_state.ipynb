{
 "cells": [
  {
   "cell_type": "code",
   "execution_count": 1,
   "id": "1290b4f2",
   "metadata": {},
   "outputs": [],
   "source": [
    "import pandas as pd\n",
    "import numpy as np"
   ]
  },
  {
   "cell_type": "code",
   "execution_count": 34,
   "id": "fdb2dc74",
   "metadata": {},
   "outputs": [],
   "source": [
    "year = \"2010\""
   ]
  },
  {
   "cell_type": "code",
   "execution_count": 35,
   "id": "d6eeb110",
   "metadata": {},
   "outputs": [],
   "source": [
    "input_path = \"hmda_all_bulk/hmda_{y}_bulk.csv\".format(y=year)"
   ]
  },
  {
   "cell_type": "code",
   "execution_count": 36,
   "id": "2dc220d5",
   "metadata": {},
   "outputs": [],
   "source": [
    "dataset_df = pd.read_csv(input_path)"
   ]
  },
  {
   "cell_type": "code",
   "execution_count": 37,
   "id": "4f0b056a",
   "metadata": {},
   "outputs": [
    {
     "data": {
      "text/plain": [
       "(12262258, 42)"
      ]
     },
     "execution_count": 37,
     "metadata": {},
     "output_type": "execute_result"
    }
   ],
   "source": [
    "m, n = dataset_df.shape\n",
    "m, n"
   ]
  },
  {
   "cell_type": "code",
   "execution_count": 38,
   "id": "c345534a",
   "metadata": {},
   "outputs": [
    {
     "data": {
      "text/plain": [
       "52"
      ]
     },
     "execution_count": 38,
     "metadata": {},
     "output_type": "execute_result"
    }
   ],
   "source": [
    "states = set(dataset_df['state_abbr'].unique())\n",
    "len(states)"
   ]
  },
  {
   "cell_type": "code",
   "execution_count": 39,
   "id": "7d0e7ff3",
   "metadata": {},
   "outputs": [],
   "source": [
    "protected_attr_cols = ['applicant_ethnicity',\n",
    "                       'applicant_race_1',\n",
    "                       'applicant_race_2',\n",
    "                       'applicant_race_3',\n",
    "                       'applicant_race_4',\n",
    "                       'applicant_race_5',\n",
    "                       'applicant_sex',\n",
    "                       'co_applicant_ethnicity',\n",
    "                       'co_applicant_race_1', \n",
    "                       'co_applicant_race_2', \n",
    "                       'co_applicant_race_3', \n",
    "                       'co_applicant_race_4', \n",
    "                       'co_applicant_race_5',\n",
    "                       'co_applicant_sex']"
   ]
  },
  {
   "cell_type": "code",
   "execution_count": null,
   "id": "78a4e94a",
   "metadata": {},
   "outputs": [
    {
     "name": "stdout",
     "output_type": "stream",
     "text": [
      "1/52: Splitting HI\n",
      "2/52: Splitting MS\n",
      "3/52: Splitting FL\n",
      "4/52: Splitting MI\n",
      "5/52: Splitting AZ\n",
      "6/52: Splitting ID\n",
      "7/52: Splitting WI\n",
      "8/52: Splitting CA\n",
      "9/52: Splitting NH\n",
      "10/52: Splitting IA\n",
      "11/52: Splitting NE\n",
      "12/52: Splitting AR\n",
      "13/52: Splitting OR\n",
      "14/52: Splitting AL\n",
      "15/52: Splitting RI\n",
      "16/52: Splitting UT\n",
      "17/52: Splitting TN\n",
      "18/52: Splitting NJ\n",
      "19/52: Splitting MT\n",
      "20/52: Splitting LA\n",
      "21/52: Splitting OK\n",
      "22/52: Splitting PA\n",
      "23/52: Splitting CT\n",
      "24/52: Splitting PR\n",
      "25/52: Splitting MD\n"
     ]
    }
   ],
   "source": [
    "i = 1\n",
    "\n",
    "output_root = \"hmda/data/{y}/\".format(y=year)\n",
    "\n",
    "for s in states:\n",
    "    print(\"{i}/{t}: Splitting {s}\".format(s=s, i=i, t=len(states)))\n",
    "    # get state df subset\n",
    "    state_df = dataset_df[dataset_df['state_abbr'] == s]\n",
    "    \n",
    "    # split target, protected, features\n",
    "    \n",
    "    target_df = state_df[['action_taken',\n",
    "                          'denial_reason_1', \n",
    "                          'denial_reason_2', \n",
    "                          'denial_reason_3']]\n",
    "    \n",
    "    target_df.to_csv(\"{r}{s}/{y}-{s}-target.csv\".format(r=output_root, y=year, s=s), index=False)\n",
    "    \n",
    "    del state_df['denial_reason_1']\n",
    "    del state_df['denial_reason_2']\n",
    "    del state_df['denial_reason_3']\n",
    "    del state_df['action_taken']\n",
    "    \n",
    "    g_df = state_df[protected_attr_cols]\n",
    "    \n",
    "    g_df.to_csv(\"{r}{s}/{y}-{s}-protected.csv\".format(r=output_root, y=year, s=s), index=False)\n",
    "    \n",
    "    for c in protected_attr_cols:\n",
    "        del state_df[c]\n",
    "        \n",
    "    state_df.to_csv(\"{r}{s}/{y}-{s}-features.csv\".format(r=output_root, y=year, s=s), index=False)\n",
    "    assert(len(state_df.index) == len(target_df.index))\n",
    "    assert(len(g_df.index) == len(target_df.index))\n",
    "    \n",
    "    i += 1"
   ]
  }
 ],
 "metadata": {
  "kernelspec": {
   "display_name": "Python 3",
   "language": "python",
   "name": "python3"
  },
  "language_info": {
   "codemirror_mode": {
    "name": "ipython",
    "version": 3
   },
   "file_extension": ".py",
   "mimetype": "text/x-python",
   "name": "python",
   "nbconvert_exporter": "python",
   "pygments_lexer": "ipython3",
   "version": "3.8.8"
  }
 },
 "nbformat": 4,
 "nbformat_minor": 5
}
