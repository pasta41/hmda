{
 "cells": [
  {
   "cell_type": "code",
   "execution_count": 1,
   "id": "43b19116",
   "metadata": {},
   "outputs": [],
   "source": [
    "import pandas as pd\n",
    "import numpy as np"
   ]
  },
  {
   "cell_type": "code",
   "execution_count": 2,
   "id": "b52a750e",
   "metadata": {
    "scrolled": false
   },
   "outputs": [
    {
     "name": "stderr",
     "output_type": "stream",
     "text": [
      "/home/cooper/.local/lib/python3.8/site-packages/IPython/core/interactiveshell.py:3169: DtypeWarning: Columns (1,2,3,4,5,6,7,8,9,10,11,13,14,15,16,17,18,19,20,21,22,23,24,25,26,27,28,29,30,31,32,33,34,35,36,37,38,39,40,41,42,43) have mixed types.Specify dtype option on import or set low_memory=False.\n",
      "  has_raised = await self.run_ast_nodes(code_ast.body, cell_name,\n"
     ]
    },
    {
     "data": {
      "text/plain": [
       "(1018771, 44)"
      ]
     },
     "execution_count": 2,
     "metadata": {},
     "output_type": "execute_result"
    }
   ],
   "source": [
    "state = \"FL\"\n",
    "year = \"2017\"\n",
    "path_root = \"../data/{state}/\".format(state=state)\n",
    "\n",
    "path = \"{pr}{state}_all.csv\".format(pr=path_root, state=state)\n",
    "\n",
    "df = pd.read_csv(path)\n",
    "\n",
    "m, n = df.shape\n",
    "m, n"
   ]
  },
  {
   "cell_type": "code",
   "execution_count": 3,
   "id": "d4620118",
   "metadata": {},
   "outputs": [
    {
     "data": {
      "text/html": [
       "<div>\n",
       "<style scoped>\n",
       "    .dataframe tbody tr th:only-of-type {\n",
       "        vertical-align: middle;\n",
       "    }\n",
       "\n",
       "    .dataframe tbody tr th {\n",
       "        vertical-align: top;\n",
       "    }\n",
       "\n",
       "    .dataframe thead th {\n",
       "        text-align: right;\n",
       "    }\n",
       "</style>\n",
       "<table border=\"1\" class=\"dataframe\">\n",
       "  <thead>\n",
       "    <tr style=\"text-align: right;\">\n",
       "      <th></th>\n",
       "      <th>Unnamed: 0</th>\n",
       "      <th>Unnamed: 0.1</th>\n",
       "      <th>as_of_year</th>\n",
       "      <th>agency_code</th>\n",
       "      <th>loan_type</th>\n",
       "      <th>property_type</th>\n",
       "      <th>loan_purpose</th>\n",
       "      <th>owner_occupancy</th>\n",
       "      <th>loan_amount_000s</th>\n",
       "      <th>preapproval</th>\n",
       "      <th>...</th>\n",
       "      <th>denial_reason_3</th>\n",
       "      <th>rate_spread</th>\n",
       "      <th>edit_status</th>\n",
       "      <th>sequence_number</th>\n",
       "      <th>population</th>\n",
       "      <th>minority_population</th>\n",
       "      <th>hud_median_family_income</th>\n",
       "      <th>tract_to_msamd_income</th>\n",
       "      <th>number_of_owner_occupied_units</th>\n",
       "      <th>number_of_1_to_4_family_units</th>\n",
       "    </tr>\n",
       "  </thead>\n",
       "  <tbody>\n",
       "    <tr>\n",
       "      <th>0</th>\n",
       "      <td>NaN</td>\n",
       "      <td>Unnamed: 0</td>\n",
       "      <td>as_of_year</td>\n",
       "      <td>agency_code</td>\n",
       "      <td>loan_type</td>\n",
       "      <td>property_type</td>\n",
       "      <td>loan_purpose</td>\n",
       "      <td>owner_occupancy</td>\n",
       "      <td>loan_amount_000s</td>\n",
       "      <td>preapproval</td>\n",
       "      <td>...</td>\n",
       "      <td>denial_reason_3</td>\n",
       "      <td>rate_spread</td>\n",
       "      <td>edit_status</td>\n",
       "      <td>sequence_number</td>\n",
       "      <td>population</td>\n",
       "      <td>minority_population</td>\n",
       "      <td>hud_median_family_income</td>\n",
       "      <td>tract_to_msamd_income</td>\n",
       "      <td>number_of_owner_occupied_units</td>\n",
       "      <td>number_of_1_to_4_family_units</td>\n",
       "    </tr>\n",
       "    <tr>\n",
       "      <th>1</th>\n",
       "      <td>NaN</td>\n",
       "      <td>Unnamed: 0</td>\n",
       "      <td>as_of_year</td>\n",
       "      <td>agency_code</td>\n",
       "      <td>loan_type</td>\n",
       "      <td>property_type</td>\n",
       "      <td>loan_purpose</td>\n",
       "      <td>owner_occupancy</td>\n",
       "      <td>loan_amount_000s</td>\n",
       "      <td>preapproval</td>\n",
       "      <td>...</td>\n",
       "      <td>denial_reason_3</td>\n",
       "      <td>rate_spread</td>\n",
       "      <td>edit_status</td>\n",
       "      <td>sequence_number</td>\n",
       "      <td>population</td>\n",
       "      <td>minority_population</td>\n",
       "      <td>hud_median_family_income</td>\n",
       "      <td>tract_to_msamd_income</td>\n",
       "      <td>number_of_owner_occupied_units</td>\n",
       "      <td>number_of_1_to_4_family_units</td>\n",
       "    </tr>\n",
       "    <tr>\n",
       "      <th>2</th>\n",
       "      <td>6.0</td>\n",
       "      <td>6</td>\n",
       "      <td>2017</td>\n",
       "      <td>9</td>\n",
       "      <td>1</td>\n",
       "      <td>1</td>\n",
       "      <td>2</td>\n",
       "      <td>2</td>\n",
       "      <td>5.0</td>\n",
       "      <td>3</td>\n",
       "      <td>...</td>\n",
       "      <td>NaN</td>\n",
       "      <td>NaN</td>\n",
       "      <td>NaN</td>\n",
       "      <td>NaN</td>\n",
       "      <td>17107.0</td>\n",
       "      <td>70.05000305175781</td>\n",
       "      <td>58400.0</td>\n",
       "      <td>73.94000244140625</td>\n",
       "      <td>2546.0</td>\n",
       "      <td>4722.0</td>\n",
       "    </tr>\n",
       "    <tr>\n",
       "      <th>3</th>\n",
       "      <td>14.0</td>\n",
       "      <td>14</td>\n",
       "      <td>2017</td>\n",
       "      <td>9</td>\n",
       "      <td>1</td>\n",
       "      <td>1</td>\n",
       "      <td>1</td>\n",
       "      <td>2</td>\n",
       "      <td>329.0</td>\n",
       "      <td>2</td>\n",
       "      <td>...</td>\n",
       "      <td>NaN</td>\n",
       "      <td>NaN</td>\n",
       "      <td>NaN</td>\n",
       "      <td>NaN</td>\n",
       "      <td>8465.0</td>\n",
       "      <td>16.219999313354492</td>\n",
       "      <td>58400.0</td>\n",
       "      <td>160.89999389648438</td>\n",
       "      <td>1838.0</td>\n",
       "      <td>2805.0</td>\n",
       "    </tr>\n",
       "    <tr>\n",
       "      <th>4</th>\n",
       "      <td>17.0</td>\n",
       "      <td>17</td>\n",
       "      <td>2017</td>\n",
       "      <td>9</td>\n",
       "      <td>1</td>\n",
       "      <td>1</td>\n",
       "      <td>1</td>\n",
       "      <td>1</td>\n",
       "      <td>132.0</td>\n",
       "      <td>3</td>\n",
       "      <td>...</td>\n",
       "      <td>NaN</td>\n",
       "      <td>NaN</td>\n",
       "      <td>NaN</td>\n",
       "      <td>NaN</td>\n",
       "      <td>5921.0</td>\n",
       "      <td>31.479999542236328</td>\n",
       "      <td>52500.0</td>\n",
       "      <td>64.70999908447266</td>\n",
       "      <td>1125.0</td>\n",
       "      <td>2260.0</td>\n",
       "    </tr>\n",
       "  </tbody>\n",
       "</table>\n",
       "<p>5 rows × 44 columns</p>\n",
       "</div>"
      ],
      "text/plain": [
       "   Unnamed: 0 Unnamed: 0.1  as_of_year  agency_code  loan_type  property_type  \\\n",
       "0         NaN   Unnamed: 0  as_of_year  agency_code  loan_type  property_type   \n",
       "1         NaN   Unnamed: 0  as_of_year  agency_code  loan_type  property_type   \n",
       "2         6.0            6        2017            9          1              1   \n",
       "3        14.0           14        2017            9          1              1   \n",
       "4        17.0           17        2017            9          1              1   \n",
       "\n",
       "   loan_purpose  owner_occupancy  loan_amount_000s  preapproval  ...  \\\n",
       "0  loan_purpose  owner_occupancy  loan_amount_000s  preapproval  ...   \n",
       "1  loan_purpose  owner_occupancy  loan_amount_000s  preapproval  ...   \n",
       "2             2                2               5.0            3  ...   \n",
       "3             1                2             329.0            2  ...   \n",
       "4             1                1             132.0            3  ...   \n",
       "\n",
       "   denial_reason_3  rate_spread  edit_status  sequence_number  population  \\\n",
       "0  denial_reason_3  rate_spread  edit_status  sequence_number  population   \n",
       "1  denial_reason_3  rate_spread  edit_status  sequence_number  population   \n",
       "2              NaN          NaN          NaN              NaN     17107.0   \n",
       "3              NaN          NaN          NaN              NaN      8465.0   \n",
       "4              NaN          NaN          NaN              NaN      5921.0   \n",
       "\n",
       "   minority_population  hud_median_family_income  tract_to_msamd_income  \\\n",
       "0  minority_population  hud_median_family_income  tract_to_msamd_income   \n",
       "1  minority_population  hud_median_family_income  tract_to_msamd_income   \n",
       "2    70.05000305175781                   58400.0      73.94000244140625   \n",
       "3   16.219999313354492                   58400.0     160.89999389648438   \n",
       "4   31.479999542236328                   52500.0      64.70999908447266   \n",
       "\n",
       "   number_of_owner_occupied_units  number_of_1_to_4_family_units  \n",
       "0  number_of_owner_occupied_units  number_of_1_to_4_family_units  \n",
       "1  number_of_owner_occupied_units  number_of_1_to_4_family_units  \n",
       "2                          2546.0                         4722.0  \n",
       "3                          1838.0                         2805.0  \n",
       "4                          1125.0                         2260.0  \n",
       "\n",
       "[5 rows x 44 columns]"
      ]
     },
     "execution_count": 3,
     "metadata": {},
     "output_type": "execute_result"
    }
   ],
   "source": [
    "df.head()"
   ]
  },
  {
   "cell_type": "code",
   "execution_count": 4,
   "id": "32bf5aef",
   "metadata": {},
   "outputs": [],
   "source": [
    "df.drop(df.columns[[0, 1]], axis=1, inplace=True)"
   ]
  },
  {
   "cell_type": "code",
   "execution_count": 5,
   "id": "8cf7a14a",
   "metadata": {},
   "outputs": [
    {
     "data": {
      "text/html": [
       "<div>\n",
       "<style scoped>\n",
       "    .dataframe tbody tr th:only-of-type {\n",
       "        vertical-align: middle;\n",
       "    }\n",
       "\n",
       "    .dataframe tbody tr th {\n",
       "        vertical-align: top;\n",
       "    }\n",
       "\n",
       "    .dataframe thead th {\n",
       "        text-align: right;\n",
       "    }\n",
       "</style>\n",
       "<table border=\"1\" class=\"dataframe\">\n",
       "  <thead>\n",
       "    <tr style=\"text-align: right;\">\n",
       "      <th></th>\n",
       "      <th>as_of_year</th>\n",
       "      <th>agency_code</th>\n",
       "      <th>loan_type</th>\n",
       "      <th>property_type</th>\n",
       "      <th>loan_purpose</th>\n",
       "      <th>owner_occupancy</th>\n",
       "      <th>loan_amount_000s</th>\n",
       "      <th>preapproval</th>\n",
       "      <th>action_taken</th>\n",
       "      <th>msamd</th>\n",
       "      <th>...</th>\n",
       "      <th>denial_reason_3</th>\n",
       "      <th>rate_spread</th>\n",
       "      <th>edit_status</th>\n",
       "      <th>sequence_number</th>\n",
       "      <th>population</th>\n",
       "      <th>minority_population</th>\n",
       "      <th>hud_median_family_income</th>\n",
       "      <th>tract_to_msamd_income</th>\n",
       "      <th>number_of_owner_occupied_units</th>\n",
       "      <th>number_of_1_to_4_family_units</th>\n",
       "    </tr>\n",
       "  </thead>\n",
       "  <tbody>\n",
       "    <tr>\n",
       "      <th>0</th>\n",
       "      <td>as_of_year</td>\n",
       "      <td>agency_code</td>\n",
       "      <td>loan_type</td>\n",
       "      <td>property_type</td>\n",
       "      <td>loan_purpose</td>\n",
       "      <td>owner_occupancy</td>\n",
       "      <td>loan_amount_000s</td>\n",
       "      <td>preapproval</td>\n",
       "      <td>action_taken</td>\n",
       "      <td>msamd</td>\n",
       "      <td>...</td>\n",
       "      <td>denial_reason_3</td>\n",
       "      <td>rate_spread</td>\n",
       "      <td>edit_status</td>\n",
       "      <td>sequence_number</td>\n",
       "      <td>population</td>\n",
       "      <td>minority_population</td>\n",
       "      <td>hud_median_family_income</td>\n",
       "      <td>tract_to_msamd_income</td>\n",
       "      <td>number_of_owner_occupied_units</td>\n",
       "      <td>number_of_1_to_4_family_units</td>\n",
       "    </tr>\n",
       "    <tr>\n",
       "      <th>1</th>\n",
       "      <td>as_of_year</td>\n",
       "      <td>agency_code</td>\n",
       "      <td>loan_type</td>\n",
       "      <td>property_type</td>\n",
       "      <td>loan_purpose</td>\n",
       "      <td>owner_occupancy</td>\n",
       "      <td>loan_amount_000s</td>\n",
       "      <td>preapproval</td>\n",
       "      <td>action_taken</td>\n",
       "      <td>msamd</td>\n",
       "      <td>...</td>\n",
       "      <td>denial_reason_3</td>\n",
       "      <td>rate_spread</td>\n",
       "      <td>edit_status</td>\n",
       "      <td>sequence_number</td>\n",
       "      <td>population</td>\n",
       "      <td>minority_population</td>\n",
       "      <td>hud_median_family_income</td>\n",
       "      <td>tract_to_msamd_income</td>\n",
       "      <td>number_of_owner_occupied_units</td>\n",
       "      <td>number_of_1_to_4_family_units</td>\n",
       "    </tr>\n",
       "    <tr>\n",
       "      <th>2</th>\n",
       "      <td>2017</td>\n",
       "      <td>9</td>\n",
       "      <td>1</td>\n",
       "      <td>1</td>\n",
       "      <td>2</td>\n",
       "      <td>2</td>\n",
       "      <td>5.0</td>\n",
       "      <td>3</td>\n",
       "      <td>3</td>\n",
       "      <td>36740.0</td>\n",
       "      <td>...</td>\n",
       "      <td>NaN</td>\n",
       "      <td>NaN</td>\n",
       "      <td>NaN</td>\n",
       "      <td>NaN</td>\n",
       "      <td>17107.0</td>\n",
       "      <td>70.05000305175781</td>\n",
       "      <td>58400.0</td>\n",
       "      <td>73.94000244140625</td>\n",
       "      <td>2546.0</td>\n",
       "      <td>4722.0</td>\n",
       "    </tr>\n",
       "    <tr>\n",
       "      <th>3</th>\n",
       "      <td>2017</td>\n",
       "      <td>9</td>\n",
       "      <td>1</td>\n",
       "      <td>1</td>\n",
       "      <td>1</td>\n",
       "      <td>2</td>\n",
       "      <td>329.0</td>\n",
       "      <td>2</td>\n",
       "      <td>4</td>\n",
       "      <td>36740.0</td>\n",
       "      <td>...</td>\n",
       "      <td>NaN</td>\n",
       "      <td>NaN</td>\n",
       "      <td>NaN</td>\n",
       "      <td>NaN</td>\n",
       "      <td>8465.0</td>\n",
       "      <td>16.219999313354492</td>\n",
       "      <td>58400.0</td>\n",
       "      <td>160.89999389648438</td>\n",
       "      <td>1838.0</td>\n",
       "      <td>2805.0</td>\n",
       "    </tr>\n",
       "    <tr>\n",
       "      <th>4</th>\n",
       "      <td>2017</td>\n",
       "      <td>9</td>\n",
       "      <td>1</td>\n",
       "      <td>1</td>\n",
       "      <td>1</td>\n",
       "      <td>1</td>\n",
       "      <td>132.0</td>\n",
       "      <td>3</td>\n",
       "      <td>6</td>\n",
       "      <td>29460.0</td>\n",
       "      <td>...</td>\n",
       "      <td>NaN</td>\n",
       "      <td>NaN</td>\n",
       "      <td>NaN</td>\n",
       "      <td>NaN</td>\n",
       "      <td>5921.0</td>\n",
       "      <td>31.479999542236328</td>\n",
       "      <td>52500.0</td>\n",
       "      <td>64.70999908447266</td>\n",
       "      <td>1125.0</td>\n",
       "      <td>2260.0</td>\n",
       "    </tr>\n",
       "  </tbody>\n",
       "</table>\n",
       "<p>5 rows × 42 columns</p>\n",
       "</div>"
      ],
      "text/plain": [
       "   as_of_year  agency_code  loan_type  property_type  loan_purpose  \\\n",
       "0  as_of_year  agency_code  loan_type  property_type  loan_purpose   \n",
       "1  as_of_year  agency_code  loan_type  property_type  loan_purpose   \n",
       "2        2017            9          1              1             2   \n",
       "3        2017            9          1              1             1   \n",
       "4        2017            9          1              1             1   \n",
       "\n",
       "   owner_occupancy  loan_amount_000s  preapproval  action_taken    msamd  ...  \\\n",
       "0  owner_occupancy  loan_amount_000s  preapproval  action_taken    msamd  ...   \n",
       "1  owner_occupancy  loan_amount_000s  preapproval  action_taken    msamd  ...   \n",
       "2                2               5.0            3             3  36740.0  ...   \n",
       "3                2             329.0            2             4  36740.0  ...   \n",
       "4                1             132.0            3             6  29460.0  ...   \n",
       "\n",
       "   denial_reason_3  rate_spread  edit_status  sequence_number  population  \\\n",
       "0  denial_reason_3  rate_spread  edit_status  sequence_number  population   \n",
       "1  denial_reason_3  rate_spread  edit_status  sequence_number  population   \n",
       "2              NaN          NaN          NaN              NaN     17107.0   \n",
       "3              NaN          NaN          NaN              NaN      8465.0   \n",
       "4              NaN          NaN          NaN              NaN      5921.0   \n",
       "\n",
       "   minority_population  hud_median_family_income  tract_to_msamd_income  \\\n",
       "0  minority_population  hud_median_family_income  tract_to_msamd_income   \n",
       "1  minority_population  hud_median_family_income  tract_to_msamd_income   \n",
       "2    70.05000305175781                   58400.0      73.94000244140625   \n",
       "3   16.219999313354492                   58400.0     160.89999389648438   \n",
       "4   31.479999542236328                   52500.0      64.70999908447266   \n",
       "\n",
       "   number_of_owner_occupied_units  number_of_1_to_4_family_units  \n",
       "0  number_of_owner_occupied_units  number_of_1_to_4_family_units  \n",
       "1  number_of_owner_occupied_units  number_of_1_to_4_family_units  \n",
       "2                          2546.0                         4722.0  \n",
       "3                          1838.0                         2805.0  \n",
       "4                          1125.0                         2260.0  \n",
       "\n",
       "[5 rows x 42 columns]"
      ]
     },
     "execution_count": 5,
     "metadata": {},
     "output_type": "execute_result"
    }
   ],
   "source": [
    "df.head(5)"
   ]
  },
  {
   "cell_type": "code",
   "execution_count": 7,
   "id": "ca7ffc36",
   "metadata": {},
   "outputs": [],
   "source": [
    "# sometimes the join, if multiple files, is messed up; need to delte rows\n",
    "#df = df.drop([0,1])\n",
    "#df.head()"
   ]
  },
  {
   "cell_type": "code",
   "execution_count": 8,
   "id": "2763c013",
   "metadata": {},
   "outputs": [
    {
     "data": {
      "text/plain": [
       "(1018769, 42)"
      ]
     },
     "execution_count": 8,
     "metadata": {},
     "output_type": "execute_result"
    }
   ],
   "source": [
    "# some missing loan amount; need this\n",
    "df = df.dropna(subset=['loan_amount_000s'])\n",
    "m, n = df.shape\n",
    "m, n"
   ]
  },
  {
   "cell_type": "code",
   "execution_count": 9,
   "id": "fb55a57e",
   "metadata": {},
   "outputs": [
    {
     "data": {
      "text/plain": [
       "['msamd',\n",
       " 'county_code',\n",
       " 'census_tract_number',\n",
       " 'applicant_race_2',\n",
       " 'applicant_race_3',\n",
       " 'applicant_race_4',\n",
       " 'applicant_race_5',\n",
       " 'co_applicant_race_2',\n",
       " 'co_applicant_race_3',\n",
       " 'co_applicant_race_4',\n",
       " 'co_applicant_race_5',\n",
       " 'applicant_income_000s',\n",
       " 'denial_reason_1',\n",
       " 'denial_reason_2',\n",
       " 'denial_reason_3',\n",
       " 'rate_spread',\n",
       " 'edit_status',\n",
       " 'sequence_number',\n",
       " 'population',\n",
       " 'minority_population',\n",
       " 'hud_median_family_income',\n",
       " 'tract_to_msamd_income',\n",
       " 'number_of_owner_occupied_units',\n",
       " 'number_of_1_to_4_family_units']"
      ]
     },
     "execution_count": 9,
     "metadata": {},
     "output_type": "execute_result"
    }
   ],
   "source": [
    "df.columns[df.isna().any()].tolist()"
   ]
  },
  {
   "cell_type": "code",
   "execution_count": 10,
   "id": "ceb9f7e9",
   "metadata": {},
   "outputs": [
    {
     "data": {
      "text/plain": [
       "(1012629, 42)"
      ]
     },
     "execution_count": 10,
     "metadata": {},
     "output_type": "execute_result"
    }
   ],
   "source": [
    "# some missing crucial census info; remove\n",
    "df = df.dropna(subset=['county_code'])\n",
    "df = df.dropna(subset=['census_tract_number'])\n",
    "df = df.dropna(subset=['population'])\n",
    "df = df.dropna(subset=['minority_population'])\n",
    "df = df.dropna(subset=['hud_median_family_income'])\n",
    "df = df.dropna(subset=['tract_to_msamd_income'])\n",
    "df = df.dropna(subset=['number_of_owner_occupied_units'])\n",
    "df = df.dropna(subset=['number_of_1_to_4_family_units'])\n",
    "\n",
    "m, n = df.shape\n",
    "m, n"
   ]
  },
  {
   "cell_type": "code",
   "execution_count": 11,
   "id": "299d562b",
   "metadata": {},
   "outputs": [
    {
     "data": {
      "text/plain": [
       "['msamd',\n",
       " 'applicant_race_2',\n",
       " 'applicant_race_3',\n",
       " 'applicant_race_4',\n",
       " 'applicant_race_5',\n",
       " 'co_applicant_race_2',\n",
       " 'co_applicant_race_3',\n",
       " 'co_applicant_race_4',\n",
       " 'co_applicant_race_5',\n",
       " 'applicant_income_000s',\n",
       " 'denial_reason_1',\n",
       " 'denial_reason_2',\n",
       " 'denial_reason_3',\n",
       " 'rate_spread',\n",
       " 'edit_status',\n",
       " 'sequence_number']"
      ]
     },
     "execution_count": 11,
     "metadata": {},
     "output_type": "execute_result"
    }
   ],
   "source": [
    "df.columns[df.isna().any()].tolist()"
   ]
  },
  {
   "cell_type": "code",
   "execution_count": null,
   "id": "1d4b6496",
   "metadata": {},
   "outputs": [],
   "source": [
    "print(df.loc[df['msamd'].isna()].index)\n",
    "# keep msamd; about 7% missing it, can filter out those examples or remove column, leave up to user\n",
    "\n",
    "print(df.loc[df['applicant_income_000s'].isna()].index)\n",
    "# keep applicant_income, but note that about 12% missing this; can also leave up to user\n"
   ]
  },
  {
   "cell_type": "code",
   "execution_count": null,
   "id": "8324d6ac",
   "metadata": {},
   "outputs": [],
   "source": [
    "print(df.loc[~df['rate_spread'].isna()].index)\n",
    "# almost everything is missing rate spread; delete it\n",
    "del df['rate_spread']"
   ]
  },
  {
   "cell_type": "code",
   "execution_count": null,
   "id": "a386e54f",
   "metadata": {},
   "outputs": [],
   "source": [
    "print(df.loc[~df['sequence_number'].isna()].index)\n",
    "# almost everything is missing sequence_number; delete it\n",
    "del df['sequence_number']"
   ]
  },
  {
   "cell_type": "code",
   "execution_count": null,
   "id": "e12ccda6",
   "metadata": {},
   "outputs": [],
   "source": [
    "df.columns[df.isna().any()].tolist()"
   ]
  },
  {
   "cell_type": "code",
   "execution_count": null,
   "id": "1ddcd22c",
   "metadata": {},
   "outputs": [],
   "source": [
    "df.columns[~df.isna().any()].tolist()"
   ]
  },
  {
   "cell_type": "code",
   "execution_count": null,
   "id": "b0f6a3da",
   "metadata": {},
   "outputs": [],
   "source": [
    "print(df.loc[~df['edit_status'].isna()].index)\n",
    "# almost everything is missing rate spread; delete it\n",
    "del df['edit_status']"
   ]
  },
  {
   "cell_type": "code",
   "execution_count": null,
   "id": "1649012f",
   "metadata": {},
   "outputs": [],
   "source": [
    "df.columns[df.isna().any()].tolist() \n",
    "# expect only the msamd, income, and protected stuff na now; \n",
    "# if anything else, additional filtering logic needs t obe added"
   ]
  },
  {
   "cell_type": "code",
   "execution_count": null,
   "id": "bafb6473",
   "metadata": {},
   "outputs": [],
   "source": [
    "# filter to only include non-missing (wrt lar codes) protected attribute info\n",
    "df = df.loc[df['applicant_sex'].isin([1, 2])]\n",
    "df = df.loc[df['applicant_race_1'].isin([1,2,3,4,5])]\n",
    "df = df.loc[df['applicant_ethnicity'].isin([1,2])]\n",
    "\n",
    "# filter out withdrawn applications,loans purchased by institutions; codes 4 and 6\n",
    "df = df.loc[~df['action_taken'].isin([4,6])]\n",
    "m, n = df.shape\n",
    "m, n"
   ]
  },
  {
   "cell_type": "code",
   "execution_count": null,
   "id": "7f5e9756",
   "metadata": {},
   "outputs": [],
   "source": [
    "target_df = df[['action_taken',\n",
    "                'denial_reason_1', \n",
    "                'denial_reason_2', \n",
    "                'denial_reason_3']]\n",
    "target_df.head()"
   ]
  },
  {
   "cell_type": "code",
   "execution_count": null,
   "id": "8f867dee",
   "metadata": {},
   "outputs": [],
   "source": [
    "base_out = \"{pr}hmda_{yr}_{state}_\".format(pr=path_root, yr=year, state=state)\n",
    "\n",
    "target_path = \"{b}target_final.csv\".format(b=base_out)\n",
    "target_df.to_csv(target_path)"
   ]
  },
  {
   "cell_type": "code",
   "execution_count": null,
   "id": "d07d5109",
   "metadata": {},
   "outputs": [],
   "source": [
    "del df['denial_reason_1']\n",
    "del df['denial_reason_2']\n",
    "del df['denial_reason_3']\n",
    "del df['action_taken']"
   ]
  },
  {
   "cell_type": "code",
   "execution_count": null,
   "id": "84320c5a",
   "metadata": {},
   "outputs": [],
   "source": [
    "df.columns[df.isna().any()].tolist() "
   ]
  },
  {
   "cell_type": "code",
   "execution_count": null,
   "id": "0e5a9d8a",
   "metadata": {},
   "outputs": [],
   "source": [
    "protected_attr_cols = ['applicant_ethnicity',\n",
    "                       'applicant_race_1',\n",
    "                       'applicant_race_2',\n",
    "                       'applicant_race_3',\n",
    "                       'applicant_race_4',\n",
    "                       'applicant_race_5',\n",
    "                       'applicant_sex',\n",
    "                       'co_applicant_ethnicity',\n",
    "                       'co_applicant_race_1', \n",
    "                       'co_applicant_race_2', \n",
    "                       'co_applicant_race_3', \n",
    "                       'co_applicant_race_4', \n",
    "                       'co_applicant_race_5',\n",
    "                       'co_applicant_sex']\n",
    "\n",
    "g_df = df[protected_attr_cols]\n",
    "g_df.head()"
   ]
  },
  {
   "cell_type": "code",
   "execution_count": null,
   "id": "3b073b0b",
   "metadata": {},
   "outputs": [],
   "source": [
    "g_path = \"{b}protected_final.csv\".format(b=base_out)\n",
    "g_df.to_csv(g_path)"
   ]
  },
  {
   "cell_type": "code",
   "execution_count": null,
   "id": "0a4a863e",
   "metadata": {},
   "outputs": [],
   "source": [
    "for c in protected_attr_cols:\n",
    "    del df[c]"
   ]
  },
  {
   "cell_type": "code",
   "execution_count": null,
   "id": "e2b54981",
   "metadata": {},
   "outputs": [],
   "source": [
    "df.columns[df.isna().any()].tolist() # should be msamd, applicant_income"
   ]
  },
  {
   "cell_type": "code",
   "execution_count": null,
   "id": "39b3ad10",
   "metadata": {},
   "outputs": [],
   "source": [
    "features_path = \"{b}features_final.csv\".format(b=base_out)\n",
    "df.to_csv(features_path)"
   ]
  },
  {
   "cell_type": "code",
   "execution_count": null,
   "id": "03da4a83",
   "metadata": {},
   "outputs": [],
   "source": [
    "m, n = df.shape\n",
    "m, n"
   ]
  },
  {
   "cell_type": "code",
   "execution_count": null,
   "id": "b2462546",
   "metadata": {},
   "outputs": [],
   "source": [
    "m, n = g_df.shape\n",
    "m, n"
   ]
  },
  {
   "cell_type": "code",
   "execution_count": null,
   "id": "badc8278",
   "metadata": {},
   "outputs": [],
   "source": [
    "m, n = target_df.shape\n",
    "m, n\n",
    "target_df"
   ]
  }
 ],
 "metadata": {
  "kernelspec": {
   "display_name": "experiments",
   "language": "python",
   "name": "experiments"
  },
  "language_info": {
   "codemirror_mode": {
    "name": "ipython",
    "version": 3
   },
   "file_extension": ".py",
   "mimetype": "text/x-python",
   "name": "python",
   "nbconvert_exporter": "python",
   "pygments_lexer": "ipython3",
   "version": "3.8.5"
  }
 },
 "nbformat": 4,
 "nbformat_minor": 5
}
